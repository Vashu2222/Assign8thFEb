{
 "cells": [
  {
   "cell_type": "code",
   "execution_count": 1,
   "id": "f52f401b-7906-4583-b8ae-d2beb3cbf57c",
   "metadata": {},
   "outputs": [],
   "source": [
    "# Q1. What is Abstraction in OOps? Explain with an example."
   ]
  },
  {
   "cell_type": "code",
   "execution_count": 2,
   "id": "adfebeba-7a97-4e83-8146-16d39daf06d9",
   "metadata": {},
   "outputs": [],
   "source": [
    "# Ans : Abstraction in OOP is a process of hiding the real implementation of the menthod by only showing a menthod signature."
   ]
  },
  {
   "cell_type": "code",
   "execution_count": 19,
   "id": "14124b63-9d7d-4661-a530-a38e4f6d4cc7",
   "metadata": {},
   "outputs": [],
   "source": [
    "from abc import ABC, abstractmethod   \n",
    "class Car(ABC):   \n",
    "    def mileage(self):   \n",
    "        pass  \n",
    "class Tesla(Car):   \n",
    "    def mileage(self):   \n",
    "        print(\"The mileage is 30kmph\")   \n",
    "class Suzuki(Car):   \n",
    "    def mileage(self):   \n",
    "        print(\"The mileage is 25kmph \")   \n",
    "class Duster(Car):   \n",
    "     def mileage(self):   \n",
    "        print(\"The mileage is 24kmph \")   \n",
    "class Renault(Car):   \n",
    "    def mileage(self):   \n",
    "        print(\"The mileage is 27kmph \")   "
   ]
  },
  {
   "cell_type": "code",
   "execution_count": 3,
   "id": "62ee1efa-c4db-417d-85bc-bf53d94519f5",
   "metadata": {},
   "outputs": [],
   "source": [
    "# Q2. Differentiate between Abstraction and Encapsulation. Explain with an example."
   ]
  },
  {
   "cell_type": "code",
   "execution_count": 5,
   "id": "d4200cb1-1e95-41ac-b8ff-3b1893a3cb25",
   "metadata": {},
   "outputs": [],
   "source": [
    "# Ans : Abstraction is hiding the details and implementation of the code but Encapsulation is hiding the data and controlling the visibility of the code."
   ]
  },
  {
   "cell_type": "code",
   "execution_count": 6,
   "id": "6ca9186c-b13b-42dd-a340-7251d9020377",
   "metadata": {},
   "outputs": [],
   "source": [
    "# Exp : Abstraction is used in mobile phones’ GUI. When you click on the icons, abstraction allows them to perform specific functions. Let’s look at the encapsulation example to clarify the Encapsulation vs Abstraction. After the icon is clicked, the encapsulation works in the backend to guide the user on the next steps."
   ]
  },
  {
   "cell_type": "code",
   "execution_count": 7,
   "id": "3e50a0b7-8182-4589-8dfa-c6e7cf391a1c",
   "metadata": {},
   "outputs": [],
   "source": [
    "# What is abc module in python? Why is it used?"
   ]
  },
  {
   "cell_type": "code",
   "execution_count": 8,
   "id": "89642a17-87fb-4b1c-947e-c342d33384ab",
   "metadata": {},
   "outputs": [],
   "source": [
    "# Ans : ABC (Abstract Base Class)  "
   ]
  },
  {
   "cell_type": "code",
   "execution_count": 9,
   "id": "7db18b22-0be7-4bb5-9d79-d33b7028d301",
   "metadata": {},
   "outputs": [],
   "source": [
    "# An Abstract class is one of important concept in object oriented programming. It is like blueprint for other classes.\n",
    "# Why is it used??\n",
    "# for larger projects, it is impossible to remember the class details, and also the reusability of code can increasee thebug. Therefore, it plays a crucial role in our projects."
   ]
  },
  {
   "cell_type": "code",
   "execution_count": 10,
   "id": "676420b7-4027-439d-b891-6df20e9c7509",
   "metadata": {},
   "outputs": [],
   "source": [
    "# Q4. How can we achieve data abstraction?"
   ]
  },
  {
   "cell_type": "code",
   "execution_count": 11,
   "id": "8886b908-7838-49a9-b584-29fe0d1705af",
   "metadata": {},
   "outputs": [],
   "source": [
    "# Ans : Abstraction can be achieved by using abstract classes and methods in our programs."
   ]
  },
  {
   "cell_type": "code",
   "execution_count": 12,
   "id": "1757aafa-0e93-4767-a14e-e23d51bea863",
   "metadata": {},
   "outputs": [],
   "source": [
    "# Q5. Can we create an instance of an abstract class? Explain your answer."
   ]
  },
  {
   "cell_type": "code",
   "execution_count": 13,
   "id": "8d0eb382-d6e6-49b5-8861-839aba418d24",
   "metadata": {},
   "outputs": [],
   "source": [
    "# Ans : We cannot create an abstract class in python directly.  however, python does provide a module that allows us to define abstract classes. the modue we can use to create an abstract class in python is abc module."
   ]
  },
  {
   "cell_type": "code",
   "execution_count": 16,
   "id": "1e08df14-cfb0-4974-82c8-e5e3e7b86b20",
   "metadata": {},
   "outputs": [],
   "source": [
    " \n",
    "class Shape(ABC):\n",
    "    def __init__(self, shape_name):\n",
    "        self.shape_name = shape_name\n",
    "    def draw(self):\n",
    "        pass"
   ]
  },
  {
   "cell_type": "code",
   "execution_count": null,
   "id": "617a65b1-9f12-4524-9bdd-d34b9d997adb",
   "metadata": {},
   "outputs": [],
   "source": []
  }
 ],
 "metadata": {
  "kernelspec": {
   "display_name": "Python 3 (ipykernel)",
   "language": "python",
   "name": "python3"
  },
  "language_info": {
   "codemirror_mode": {
    "name": "ipython",
    "version": 3
   },
   "file_extension": ".py",
   "mimetype": "text/x-python",
   "name": "python",
   "nbconvert_exporter": "python",
   "pygments_lexer": "ipython3",
   "version": "3.10.6"
  }
 },
 "nbformat": 4,
 "nbformat_minor": 5
}
